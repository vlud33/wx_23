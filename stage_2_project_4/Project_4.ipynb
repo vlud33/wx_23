{
 "cells": [
  {
   "cell_type": "markdown",
   "id": "5ca0232f",
   "metadata": {},
   "source": [
    "# Designers"
   ]
  },
  {
   "cell_type": "markdown",
   "id": "dfc9ea65",
   "metadata": {},
   "source": [
    "#### - Jonah Panting\n",
    "#### - Vlad Ersteniuk\n",
    "#### - Heidi Poulter\n",
    "#### - Tejas Dabke\n",
    "#### - Rory Bryne"
   ]
  },
  {
   "cell_type": "code",
   "execution_count": null,
   "id": "63ba50a3",
   "metadata": {},
   "outputs": [],
   "source": []
  }
 ],
 "metadata": {
  "kernelspec": {
   "display_name": "Python 3 (ipykernel)",
   "language": "python",
   "name": "python3"
  },
  "language_info": {
   "codemirror_mode": {
    "name": "ipython",
    "version": 3
   },
   "file_extension": ".py",
   "mimetype": "text/x-python",
   "name": "python",
   "nbconvert_exporter": "python",
   "pygments_lexer": "ipython3",
   "version": "3.10.9"
  }
 },
 "nbformat": 4,
 "nbformat_minor": 5
}
